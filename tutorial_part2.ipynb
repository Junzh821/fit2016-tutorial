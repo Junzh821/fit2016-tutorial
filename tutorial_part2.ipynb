{
 "cells": [
  {
   "cell_type": "markdown",
   "metadata": {},
   "source": [
    "# Python によるデータ分析コンテスト実践 (2)\n",
    "\n",
    "本ドキュメントは FIT 2016 チュートリアル資料です．[Walmart Recruiting: Trip Type Classification](https://www.kaggle.com/c/walmart-recruiting-trip-type-classification) コンテストを題材として、Python のデータ分析関連パッケージの利用例を紹介する。\n",
    "\n",
    "## 目次\n",
    "\n",
    "* 補足：実行環境について\n",
    "* Walmart Recruiting: Trip Type Classification について\n",
    "  * タスク設定\n",
    "  * データのダウンロード\n",
    "  * データの確認\n",
    "* 下準備\n",
    "  * 予測モデルの交差確認\n",
    "  * データセットの特徴を調べる\n",
    "* 特徴量を作成する\n",
    "  * 特徴量の作成\n",
    "  * 中間ファイルへの保存\n",
    "* 機械学習アルゴリズムを利用する\n",
    "  * ロジスティック回帰モデルによる予測\n",
    "  * Gradient Boosting モデルによる予測\n",
    "  * 予測結果を Kaggle への投稿\n",
    "* 予測モデルを改善する\n",
    "  * 特徴量を増やす\n",
    "  * パラメータチューニング\n",
    "  * 改善した予測結果を Kaggle へ投稿\n",
    "\n",
    "----\n",
    "\n",
    "### 補足: 実行環境について\n",
    "\n",
    "本チュートリアル資料で利用する実行環境は、Docker Hub に公開されている Docker イメージ [smly/notebook](https://hub.docker.com/r/smly/notebook/) を利用している。Docker がインストールされている環境で，以下のコマンドによって Jupyter notebook を立ち上げることができる．\n",
    "\n",
    "```sh\n",
    "$ docker run \\\n",
    "  --rm \\\n",
    "  -ti \\\n",
    "  -p 8888:8888 \\\n",
    "  -v /path/to/data_directory:/mnt \\\n",
    "  -v /path/to/working_directory:/home/kohei/work \\\n",
    "  smly/notebook\n",
    "```\n",
    "\n",
    "インストールされている Python パッケージのバージョン、処理系のバージョンは以下の通りである。"
   ]
  },
  {
   "cell_type": "code",
   "execution_count": 27,
   "metadata": {
    "collapsed": false
   },
   "outputs": [
    {
     "name": "stdout",
     "output_type": "stream",
     "text": [
      "System: Linux x86_64 (kernel=4.4.15-moby)\n",
      "Python version: 3.6.0a2 (default, Jun 28 2016, 22:42:53) \n",
      "[GCC 5.3.1 20160413]\n",
      "NumPy=1.11.1, Pandas=0.18.1, ScikitLearn=0.17.1\n"
     ]
    }
   ],
   "source": [
    "%matplotlib inline\n",
    "import matplotlib\n",
    "import matplotlib.pyplot as plt\n",
    "import seaborn as sns\n",
    "import numpy as np\n",
    "import pandas as pd\n",
    "import os\n",
    "import sys\n",
    "import warnings\n",
    "import sklearn\n",
    "import xgboost\n",
    "\n",
    "# System environment\n",
    "uname = os.uname()\n",
    "print(f\"System: {uname.sysname} {uname.machine} (kernel={uname.release})\")\n",
    "print(f\"Python version: {sys.version}\")\n",
    "print(f\"NumPy={np.__version__}, Pandas={pd.__version__}, ScikitLearn={sklearn.__version__}\")"
   ]
  },
  {
   "cell_type": "markdown",
   "metadata": {},
   "source": [
    "-----"
   ]
  },
  {
   "cell_type": "markdown",
   "metadata": {},
   "source": [
    "## Walmart Recruiting: Trip Type Classification について\n",
    "\n",
    "### タスク設定\n",
    "\n",
    "Kaggle は過去のデータ分析コンテストの終了後でも、コンテストによってはデータのダウンロードや予測結果の提出を行うことができる。\n",
    "今回は Walmart TripType Classification を題材して扱う。\n",
    "\n",
    "タスクは買い物客の「買い物かご」データから、購買行動を 38 クラスのカテゴリに分類する問題である。評価指標は Multi Log-loss である。"
   ]
  },
  {
   "cell_type": "markdown",
   "metadata": {},
   "source": [
    "### データのダウンロード\n",
    "\n",
    "以下のページよりデータをダウンロードすることができる。train, test, sampleSubmission の３つのファイルが提供されている。"
   ]
  },
  {
   "cell_type": "markdown",
   "metadata": {},
   "source": [
    "訓練事例データ `train.csv` の各データフィールドは以下の通り。\n",
    "\n",
    "|_ name _|_ Description _|\n",
    "|--------|---------------|\n",
    "| TripType | a categorical id representing the type of shopping trip the customer made. This is the ground truth that you are predicting. TripType_999 is an \"other\" category. |\n",
    "| VisitNumber | an id corresponding to a single trip by a single customer |\n",
    "| Weekday | the weekday of the trip |\n",
    "| ScanCount | the number of the given item that was purchased. A negative value indicates a product return. |\n",
    "| DepartmentDescription | a high-level description of the item's department |\n",
    "| FinelineNumber | a more refined category for each of the products, created by Walmart |"
   ]
  },
  {
   "cell_type": "markdown",
   "metadata": {},
   "source": [
    "### データの確認\n",
    "\n",
    "まず CSV ファイルのデータを読み込み、内容を確認する。以下の項目を確認する："
   ]
  },
  {
   "cell_type": "markdown",
   "metadata": {},
   "source": [
    "* 訓練データでは訪問客（VisitNumber）の買い物かご履歴と、訪問客に対応するカテゴリ（TripType）が与えられている。\n",
    "* テストデータではカテゴリが与えられていない。テストデータのカテゴリを訓練データに基づいて予測することが与えられたタスクである。\n",
    "* 予測結果の提出フォーマットは訪問客番号と各カテゴリを列としたテーブル。訪問客番号ごとにカテゴリに属する確率を解答する。"
   ]
  },
  {
   "cell_type": "code",
   "execution_count": 3,
   "metadata": {
    "collapsed": false,
    "scrolled": true
   },
   "outputs": [
    {
     "data": {
      "text/html": [
       "<div>\n",
       "<table border=\"1\" class=\"dataframe\">\n",
       "  <thead>\n",
       "    <tr style=\"text-align: right;\">\n",
       "      <th></th>\n",
       "      <th>TripType</th>\n",
       "      <th>VisitNumber</th>\n",
       "      <th>Weekday</th>\n",
       "      <th>Upc</th>\n",
       "      <th>ScanCount</th>\n",
       "      <th>DepartmentDescription</th>\n",
       "      <th>FinelineNumber</th>\n",
       "    </tr>\n",
       "  </thead>\n",
       "  <tbody>\n",
       "    <tr>\n",
       "      <th>0</th>\n",
       "      <td>999</td>\n",
       "      <td>5</td>\n",
       "      <td>Friday</td>\n",
       "      <td>6.811315e+10</td>\n",
       "      <td>-1</td>\n",
       "      <td>FINANCIAL SERVICES</td>\n",
       "      <td>1000.0</td>\n",
       "    </tr>\n",
       "    <tr>\n",
       "      <th>1</th>\n",
       "      <td>30</td>\n",
       "      <td>7</td>\n",
       "      <td>Friday</td>\n",
       "      <td>6.053882e+10</td>\n",
       "      <td>1</td>\n",
       "      <td>SHOES</td>\n",
       "      <td>8931.0</td>\n",
       "    </tr>\n",
       "    <tr>\n",
       "      <th>2</th>\n",
       "      <td>30</td>\n",
       "      <td>7</td>\n",
       "      <td>Friday</td>\n",
       "      <td>7.410811e+09</td>\n",
       "      <td>1</td>\n",
       "      <td>PERSONAL CARE</td>\n",
       "      <td>4504.0</td>\n",
       "    </tr>\n",
       "    <tr>\n",
       "      <th>3</th>\n",
       "      <td>26</td>\n",
       "      <td>8</td>\n",
       "      <td>Friday</td>\n",
       "      <td>2.238404e+09</td>\n",
       "      <td>2</td>\n",
       "      <td>PAINT AND ACCESSORIES</td>\n",
       "      <td>3565.0</td>\n",
       "    </tr>\n",
       "    <tr>\n",
       "      <th>4</th>\n",
       "      <td>26</td>\n",
       "      <td>8</td>\n",
       "      <td>Friday</td>\n",
       "      <td>2.006614e+09</td>\n",
       "      <td>2</td>\n",
       "      <td>PAINT AND ACCESSORIES</td>\n",
       "      <td>1017.0</td>\n",
       "    </tr>\n",
       "  </tbody>\n",
       "</table>\n",
       "</div>"
      ],
      "text/plain": [
       "   TripType  VisitNumber Weekday           Upc  ScanCount  \\\n",
       "0       999            5  Friday  6.811315e+10         -1   \n",
       "1        30            7  Friday  6.053882e+10          1   \n",
       "2        30            7  Friday  7.410811e+09          1   \n",
       "3        26            8  Friday  2.238404e+09          2   \n",
       "4        26            8  Friday  2.006614e+09          2   \n",
       "\n",
       "   DepartmentDescription  FinelineNumber  \n",
       "0     FINANCIAL SERVICES          1000.0  \n",
       "1                  SHOES          8931.0  \n",
       "2          PERSONAL CARE          4504.0  \n",
       "3  PAINT AND ACCESSORIES          3565.0  \n",
       "4  PAINT AND ACCESSORIES          1017.0  "
      ]
     },
     "execution_count": 3,
     "metadata": {},
     "output_type": "execute_result"
    }
   ],
   "source": [
    "import pandas as pd\n",
    "import numpy as np\n",
    "\n",
    "# 訓練データとテストデータをロードする\n",
    "df_train = pd.read_csv('/mnt/train.csv')\n",
    "df_test = pd.read_csv('/mnt/test.csv')\n",
    "# 訓練データを確認\n",
    "df_train.head()"
   ]
  },
  {
   "cell_type": "code",
   "execution_count": 4,
   "metadata": {
    "collapsed": false
   },
   "outputs": [
    {
     "data": {
      "text/html": [
       "<div>\n",
       "<table border=\"1\" class=\"dataframe\">\n",
       "  <thead>\n",
       "    <tr style=\"text-align: right;\">\n",
       "      <th></th>\n",
       "      <th>VisitNumber</th>\n",
       "      <th>TripType_3</th>\n",
       "      <th>TripType_4</th>\n",
       "      <th>TripType_5</th>\n",
       "      <th>TripType_6</th>\n",
       "      <th>TripType_7</th>\n",
       "      <th>TripType_8</th>\n",
       "      <th>TripType_9</th>\n",
       "      <th>TripType_12</th>\n",
       "      <th>TripType_14</th>\n",
       "      <th>...</th>\n",
       "      <th>TripType_36</th>\n",
       "      <th>TripType_37</th>\n",
       "      <th>TripType_38</th>\n",
       "      <th>TripType_39</th>\n",
       "      <th>TripType_40</th>\n",
       "      <th>TripType_41</th>\n",
       "      <th>TripType_42</th>\n",
       "      <th>TripType_43</th>\n",
       "      <th>TripType_44</th>\n",
       "      <th>TripType_999</th>\n",
       "    </tr>\n",
       "  </thead>\n",
       "  <tbody>\n",
       "    <tr>\n",
       "      <th>0</th>\n",
       "      <td>1</td>\n",
       "      <td>0</td>\n",
       "      <td>0</td>\n",
       "      <td>0</td>\n",
       "      <td>0</td>\n",
       "      <td>0</td>\n",
       "      <td>0</td>\n",
       "      <td>0</td>\n",
       "      <td>0</td>\n",
       "      <td>0</td>\n",
       "      <td>...</td>\n",
       "      <td>0</td>\n",
       "      <td>0</td>\n",
       "      <td>0</td>\n",
       "      <td>0</td>\n",
       "      <td>0</td>\n",
       "      <td>0</td>\n",
       "      <td>0</td>\n",
       "      <td>0</td>\n",
       "      <td>0</td>\n",
       "      <td>0</td>\n",
       "    </tr>\n",
       "    <tr>\n",
       "      <th>1</th>\n",
       "      <td>2</td>\n",
       "      <td>0</td>\n",
       "      <td>0</td>\n",
       "      <td>0</td>\n",
       "      <td>0</td>\n",
       "      <td>0</td>\n",
       "      <td>0</td>\n",
       "      <td>0</td>\n",
       "      <td>0</td>\n",
       "      <td>0</td>\n",
       "      <td>...</td>\n",
       "      <td>0</td>\n",
       "      <td>0</td>\n",
       "      <td>0</td>\n",
       "      <td>0</td>\n",
       "      <td>0</td>\n",
       "      <td>0</td>\n",
       "      <td>0</td>\n",
       "      <td>0</td>\n",
       "      <td>0</td>\n",
       "      <td>0</td>\n",
       "    </tr>\n",
       "    <tr>\n",
       "      <th>2</th>\n",
       "      <td>3</td>\n",
       "      <td>0</td>\n",
       "      <td>0</td>\n",
       "      <td>0</td>\n",
       "      <td>0</td>\n",
       "      <td>0</td>\n",
       "      <td>0</td>\n",
       "      <td>0</td>\n",
       "      <td>0</td>\n",
       "      <td>0</td>\n",
       "      <td>...</td>\n",
       "      <td>0</td>\n",
       "      <td>0</td>\n",
       "      <td>0</td>\n",
       "      <td>0</td>\n",
       "      <td>0</td>\n",
       "      <td>0</td>\n",
       "      <td>0</td>\n",
       "      <td>0</td>\n",
       "      <td>0</td>\n",
       "      <td>0</td>\n",
       "    </tr>\n",
       "    <tr>\n",
       "      <th>3</th>\n",
       "      <td>4</td>\n",
       "      <td>0</td>\n",
       "      <td>0</td>\n",
       "      <td>0</td>\n",
       "      <td>0</td>\n",
       "      <td>0</td>\n",
       "      <td>0</td>\n",
       "      <td>0</td>\n",
       "      <td>0</td>\n",
       "      <td>0</td>\n",
       "      <td>...</td>\n",
       "      <td>0</td>\n",
       "      <td>0</td>\n",
       "      <td>0</td>\n",
       "      <td>0</td>\n",
       "      <td>0</td>\n",
       "      <td>0</td>\n",
       "      <td>0</td>\n",
       "      <td>0</td>\n",
       "      <td>0</td>\n",
       "      <td>0</td>\n",
       "    </tr>\n",
       "    <tr>\n",
       "      <th>4</th>\n",
       "      <td>6</td>\n",
       "      <td>0</td>\n",
       "      <td>0</td>\n",
       "      <td>0</td>\n",
       "      <td>0</td>\n",
       "      <td>0</td>\n",
       "      <td>0</td>\n",
       "      <td>0</td>\n",
       "      <td>0</td>\n",
       "      <td>0</td>\n",
       "      <td>...</td>\n",
       "      <td>0</td>\n",
       "      <td>0</td>\n",
       "      <td>0</td>\n",
       "      <td>0</td>\n",
       "      <td>0</td>\n",
       "      <td>0</td>\n",
       "      <td>0</td>\n",
       "      <td>0</td>\n",
       "      <td>0</td>\n",
       "      <td>0</td>\n",
       "    </tr>\n",
       "  </tbody>\n",
       "</table>\n",
       "<p>5 rows × 39 columns</p>\n",
       "</div>"
      ],
      "text/plain": [
       "   VisitNumber  TripType_3  TripType_4  TripType_5  TripType_6  TripType_7  \\\n",
       "0            1           0           0           0           0           0   \n",
       "1            2           0           0           0           0           0   \n",
       "2            3           0           0           0           0           0   \n",
       "3            4           0           0           0           0           0   \n",
       "4            6           0           0           0           0           0   \n",
       "\n",
       "   TripType_8  TripType_9  TripType_12  TripType_14      ...       \\\n",
       "0           0           0            0            0      ...        \n",
       "1           0           0            0            0      ...        \n",
       "2           0           0            0            0      ...        \n",
       "3           0           0            0            0      ...        \n",
       "4           0           0            0            0      ...        \n",
       "\n",
       "   TripType_36  TripType_37  TripType_38  TripType_39  TripType_40  \\\n",
       "0            0            0            0            0            0   \n",
       "1            0            0            0            0            0   \n",
       "2            0            0            0            0            0   \n",
       "3            0            0            0            0            0   \n",
       "4            0            0            0            0            0   \n",
       "\n",
       "   TripType_41  TripType_42  TripType_43  TripType_44  TripType_999  \n",
       "0            0            0            0            0             0  \n",
       "1            0            0            0            0             0  \n",
       "2            0            0            0            0             0  \n",
       "3            0            0            0            0             0  \n",
       "4            0            0            0            0             0  \n",
       "\n",
       "[5 rows x 39 columns]"
      ]
     },
     "execution_count": 4,
     "metadata": {},
     "output_type": "execute_result"
    }
   ],
   "source": [
    "# 予測結果の提出フォーマットの確認\n",
    "df_sub = pd.read_csv(\"/mnt/sample_submission.csv\")\n",
    "df_sub.head()"
   ]
  },
  {
   "cell_type": "markdown",
   "metadata": {},
   "source": [
    "### 与えられたデータの傾向を調べる\n",
    "\n",
    "データフレームを操作してクラスカテゴリごとの事例数の分布を確認する。"
   ]
  },
  {
   "cell_type": "code",
   "execution_count": 90,
   "metadata": {
    "collapsed": false
   },
   "outputs": [
    {
     "data": {
      "text/plain": [
       "<matplotlib.axes._subplots.AxesSubplot at 0x7fe4d2a8fd68>"
      ]
     },
     "execution_count": 90,
     "metadata": {},
     "output_type": "execute_result"
    },
    {
     "data": {
      "image/png": "[encoded data removed]",
      "text/plain": [
       "<matplotlib.figure.Figure at 0x7fe4d2aa95f8>"
      ]
     },
     "metadata": {},
     "output_type": "display_data"
    }
   ],
   "source": [
    "import matplotlib.pyplot as plt\n",
    "import seaborn as sns\n",
    "\n",
    "plt.figure(figsize=(14, 3))\n",
    "sns.countplot(x=\"TripType\", data=df_train.drop_duplicates(subset='VisitNumber'), color='k')"
   ]
  },
  {
   "cell_type": "markdown",
   "metadata": {},
   "source": [
    "履歴データには曜日が存在する。曜日ごとにクラスの分布が異なるのかを確認し、訓練事例とテスト事例が異なる分布でないか確認する。"
   ]
  },
  {
   "cell_type": "code",
   "execution_count": 135,
   "metadata": {
    "collapsed": false
   },
   "outputs": [
    {
     "data": {
      "text/plain": [
       "True"
      ]
     },
     "execution_count": 135,
     "metadata": {},
     "output_type": "execute_result"
    }
   ],
   "source": [
    "# ある VisitNumber に対して、複数の Weekday が存在しないことをチェック\n",
    "df_train.groupby('VisitNumber').agg({\n",
    "    'Weekday': {\n",
    "        'uniq': lambda x: len(x.unique()),\n",
    "    }\n",
    "}).Weekday.uniq.max() == 1"
   ]
  },
  {
   "cell_type": "code",
   "execution_count": 10,
   "metadata": {
    "collapsed": false
   },
   "outputs": [
    {
     "data": {
      "text/plain": [
       "<matplotlib.axes._subplots.AxesSubplot at 0x7fdb9d73f518>"
      ]
     },
     "execution_count": 10,
     "metadata": {},
     "output_type": "execute_result"
    },
    {
     "data": {
      "image/png": "[encoded data removed]",
      "text/plain": [
       "<matplotlib.figure.Figure at 0x7fdb9db9cd30>"
      ]
     },
     "metadata": {},
     "output_type": "display_data"
    }
   ],
   "source": [
    "fig, (ax1, ax2) = plt.subplots(2, figsize=(14, 4), sharex=True)\n",
    "sns.countplot(x=\"Weekday\", data=df_train.drop_duplicates(subset='VisitNumber'), color='k', ax=ax1)\n",
    "sns.countplot(x=\"Weekday\", data=df_test.drop_duplicates(subset='VisitNumber'), color='k', ax=ax2)"
   ]
  },
  {
   "cell_type": "markdown",
   "metadata": {},
   "source": [
    "### 予測モデルの交差確認\n",
    "\n",
    "予測モデルの性能を確認するために、今回は交差確認（cross-fold validation）を用いる。`scikt-learn.cross_validation` モジュールを使う。\n",
    "\n",
    "評価指標の実装は `sklearn.metrics` モジュールや `ml_metrics` パッケージなどが存在する。\n",
    "\n",
    "（補足： sklearn.metrics.log_loss 関数は「訓練事例のクラス数」と「テスト事例のクラス数」が一致しない場合はエラーとなる。多クラス分類において、希少なクラスがテスト事例に出現しないということが起こり得る。今回はこのケースに当てはまるため、パッケージを使わず自前で実装している。）"
   ]
  },
  {
   "cell_type": "code",
   "execution_count": 15,
   "metadata": {
    "collapsed": true
   },
   "outputs": [],
   "source": [
    "def multiclass_logloss(y_true, y_pred, eps=1e-15):\n",
    "    \"\"\"\n",
    "    Ref: https://www.kaggle.com/c/predict-closed-questions-on-stack-overflow/forums/t/2644/multi-class-log-loss-function/14250#post14250\n",
    "    \"\"\"\n",
    "    predictions = np.clip(y_pred, eps, 1-eps)\n",
    "    \n",
    "    # normalize row sum to 1\n",
    "    predictions /= predictions.sum(axis=1)[:, np.newaxis]\n",
    "    actual = np.zeros(y_pred.shape)\n",
    "    rows = actual.shape[0]\n",
    "    actual[np.arange(rows), y_true.astype(int)] = 1\n",
    "    vsota = np.sum(actual * np.log(predictions))\n",
    "    return -1.0 / rows * vsota"
   ]
  },
  {
   "cell_type": "code",
   "execution_count": 17,
   "metadata": {
    "collapsed": false,
    "scrolled": true
   },
   "outputs": [
    {
     "name": "stdout",
     "output_type": "stream",
     "text": [
      "CV Score: 3.6376\n"
     ]
    }
   ],
   "source": [
    "from sklearn.cross_validation import KFold\n",
    "from sklearn.preprocessing import LabelEncoder\n",
    "\n",
    "\n",
    "def cv_allones():\n",
    "    # TripType コードを 0-indexed values (0..37) にエンコード\n",
    "    y, target_index = df_train.drop_duplicates(subset='VisitNumber').TripType.factorize()\n",
    "    n_classes = len(target_index.unique())           # 訓練事例の数\n",
    "    n_samples = len(df_train.VisitNumber.unique())   # クラスカテゴリ数\n",
    "\n",
    "    # 各 fold の訓練事例、テスト事例のインデックスを ndarray として返すイテレータ\n",
    "    kf = KFold(n_samples, n_folds=5)\n",
    "    scores = []\n",
    "    for idx_train, idx_test in kf:\n",
    "        y_train, y_test = y[idx_train], y[idx_test]\n",
    "        y_pred = np.ones((len(y_test), n_classes))\n",
    "        scores.append(multiclass_logloss(y_test, y_pred))\n",
    "\n",
    "    # 各Fold のスコア平均\n",
    "    return np.mean(scores)\n",
    "\n",
    "\n",
    "score = cv_allones()\n",
    "print(\"CV Score: {:.4f}\".format(score))"
   ]
  },
  {
   "cell_type": "markdown",
   "metadata": {},
   "source": [
    "交差確認によって、すべてをゼロとして解答する予測を行った場合 Multi-logloss は **3.6376** となった。"
   ]
  },
  {
   "cell_type": "markdown",
   "metadata": {},
   "source": [
    "訓練事例とテスト事例は時系列（曜日）が同様の分布となるようにサンプルされていることがわかる。\n",
    "曜日の情報を学習モデルに特徴量として用いた場合に、訓練事例に対して過学習しないだろうと判断できる。"
   ]
  },
  {
   "cell_type": "markdown",
   "metadata": {},
   "source": [
    "与えられたデータの各カテゴリカル変数の cardinality (ユニークな値の数) を調べる。これは学習アルゴリズムの選択、カテゴリカル変数のエンコーディング方法、過学習の有無などを判断する上で参考にする。"
   ]
  },
  {
   "cell_type": "code",
   "execution_count": 167,
   "metadata": {
    "collapsed": false
   },
   "outputs": [
    {
     "name": "stdout",
     "output_type": "stream",
     "text": [
      "TripType: 38\n",
      "VisitNumber: 95674\n",
      "Weekday: 7\n",
      "Upc: 97715\n",
      "ScanCount: 39\n",
      "DepartmentDescription: 69\n",
      "FinelineNumber: 5196\n"
     ]
    }
   ],
   "source": [
    "for col in df_train.columns:\n",
    "    print(\"{}: {}\".format(col, len(df_train[col].unique())))"
   ]
  },
  {
   "cell_type": "markdown",
   "metadata": {},
   "source": [
    "メモリ容量を考慮すると，DepartmentDescription ごとの集計をする pivot table は可能そうだが，FinelineNumber ごとの集計は cardinality が大きいので難しそうである．"
   ]
  },
  {
   "cell_type": "markdown",
   "metadata": {},
   "source": [
    "### 特徴量を中間ファイルに保存"
   ]
  },
  {
   "cell_type": "code",
   "execution_count": 18,
   "metadata": {
    "collapsed": false
   },
   "outputs": [],
   "source": [
    "import tables as tb\n",
    "\n",
    "\n",
    "def save(X, filepath):\n",
    "    with tb.open_file(filepath, 'w') as f:\n",
    "        atom = tb.Atom.from_dtype(X.dtype)\n",
    "        filters = tb.Filters(complib='blosc', complevel=9)\n",
    "        ds = f.create_carray(f.root, 'X', atom, X.shape, filters=filters)\n",
    "        ds[:] = X\n",
    "\n",
    "\n",
    "def load(filepath):\n",
    "    with tb.open_file(filepath, 'r') as f:\n",
    "        return np.array(f.root.X)\n",
    "\n",
    "\n",
    "y, target_index = df_train.drop_duplicates(subset='VisitNumber').TripType.factorize()\n",
    "save(y, 'triptype.h5')"
   ]
  },
  {
   "cell_type": "markdown",
   "metadata": {},
   "source": [
    "### 特徴量の作成\n",
    "\n",
    "まずは単純な特徴量セットを考える。"
   ]
  },
  {
   "cell_type": "code",
   "execution_count": 6,
   "metadata": {
    "collapsed": false,
    "scrolled": false
   },
   "outputs": [],
   "source": [
    "import numpy as np\n",
    "\n",
    "\n",
    "def department_description_scancount():\n",
    "    df = pd.pivot_table(\n",
    "            pd.concat([df_train, df_test]).fillna(\"_NA_\"),\n",
    "            index=\"VisitNumber\",\n",
    "            columns=[\"DepartmentDescription\"],\n",
    "            values=[\"ScanCount\"],\n",
    "            aggfunc=[np.sum]\n",
    "        )['sum']['ScanCount']\n",
    "\n",
    "    # 訓練事例の VisitNumber, テスト事例の VisitNumber 出現順にならべる\n",
    "    visit_number_order = df_train.VisitNumber.drop_duplicates().append(\n",
    "            df_test.VisitNumber.drop_duplicates())\n",
    "\n",
    "    # ゼロフィルして行列として返す\n",
    "    return df.loc[visit_number_order].fillna(0).as_matrix()\n",
    "\n",
    "\n",
    "save(department_description_scancount(), 'department_description_scancount.h5')"
   ]
  },
  {
   "cell_type": "markdown",
   "metadata": {},
   "source": [
    "### 予測モデルを作成し、交差確認\n",
    "\n",
    "`sklearn.linear_model` モジュールの `LogisticRegression` クラスを使い予測を行う．`fit()` メソッドの引数として，二値変数ではなく多クラス分類のクラスカテゴリ番号の `ndarray` を第二引数として与えた場合，OneVsRest として多クラス分類を解く。"
   ]
  },
  {
   "cell_type": "code",
   "execution_count": 10,
   "metadata": {
    "collapsed": false
   },
   "outputs": [
    {
     "name": "stdout",
     "output_type": "stream",
     "text": [
      "[1.4798878641400788]\n",
      "[1.4798878641400788, 1.500431785090141]\n",
      "[1.4798878641400788, 1.500431785090141, 1.4916844082510641]\n",
      "[1.4798878641400788, 1.500431785090141, 1.4916844082510641, 1.5161834370077831]\n",
      "[1.4798878641400788, 1.500431785090141, 1.4916844082510641, 1.5161834370077831, 1.4793529995185901]\n",
      "CV Score: 1.4935\n"
     ]
    }
   ],
   "source": [
    "from sklearn.linear_model import LogisticRegression\n",
    "\n",
    "\n",
    "def cv_with_logistic_regression(X):\n",
    "    n_samples = len(df_train.VisitNumber.unique())\n",
    "\n",
    "    kf = KFold(n_samples, n_folds=5)\n",
    "    scores = []\n",
    "    for idx_train, idx_test in kf:\n",
    "        y_train, y_test = y[idx_train], y[idx_test]\n",
    "        X_train, X_test = X[idx_train], X[idx_test]\n",
    "\n",
    "        clf = LogisticRegression()\n",
    "        clf.fit(X_train, y_train)\n",
    "        y_pred = clf.predict_proba(X_test)\n",
    "        scores.append(multiclass_logloss(y_test, y_pred))\n",
    "    return np.mean(scores)\n",
    "\n",
    "\n",
    "X = load('department_description_scancount.h5')\n",
    "print(\"CV Score: {:.4f}\".format(cv_with_logistic_regression(X)))"
   ]
  },
  {
   "cell_type": "markdown",
   "metadata": {},
   "source": [
    "スコアが改善し **1.4935** となった。ヘルパー関数を使う場合は以下のように扱う（※ scikit-learn 0.17 では cross_val_score は predict メソッドを呼び出すという制約があるためクラスを新たに定義するワークアラウンドを用いている。0.18 では method パラメータを指定することで predict_proba を呼び出すことができる見込みである ref: https://twitter.com/chris_bour/status/725308500834942976）"
   ]
  },
  {
   "cell_type": "code",
   "execution_count": 97,
   "metadata": {
    "collapsed": false
   },
   "outputs": [
    {
     "name": "stdout",
     "output_type": "stream",
     "text": [
      "CV Score: 1.4934\n"
     ]
    }
   ],
   "source": [
    "from sklearn.metrics import make_scorer\n",
    "from sklearn.cross_validation import cross_val_score\n",
    "from sklearn.linear_model import LogisticRegression\n",
    "\n",
    "\n",
    "X = load('department_description.h5')\n",
    "y = load('triptype.h5')\n",
    "X = X[:y.shape[0]]\n",
    "\n",
    "\n",
    "class LogisticRegressionForCV(LogisticRegression):\n",
    "    def predict(self, X):\n",
    "        return LogisticRegression.predict_proba(self, X)\n",
    "\n",
    "\n",
    "clf = LogisticRegressionForCV()\n",
    "\n",
    "n_samples = len(df_train.VisitNumber.unique())\n",
    "kf = KFold(n_samples, n_folds=5)\n",
    "scores = cross_val_score(clf, X, y, cv=kf, scoring=make_scorer(multiclass_logloss))\n",
    "print(\"CV Score: {:.4f}\".format(np.mean(scores)))"
   ]
  },
  {
   "cell_type": "code",
   "execution_count": 26,
   "metadata": {
    "collapsed": false
   },
   "outputs": [
    {
     "name": "stderr",
     "output_type": "stream",
     "text": [
      "[0]\ttrain-mlogloss:3.173320\tvaltest-mlogloss:3.196157\n",
      "[1]\ttrain-mlogloss:2.885077\tvaltest-mlogloss:2.917132\n",
      "[2]\ttrain-mlogloss:2.637281\tvaltest-mlogloss:2.672605\n",
      "[3]\ttrain-mlogloss:2.483368\tvaltest-mlogloss:2.523364\n",
      "[4]\ttrain-mlogloss:2.344342\tvaltest-mlogloss:2.391242\n",
      "[5]\ttrain-mlogloss:2.230872\tvaltest-mlogloss:2.284210\n",
      "[6]\ttrain-mlogloss:2.128484\tvaltest-mlogloss:2.187200\n",
      "[7]\ttrain-mlogloss:2.039099\tvaltest-mlogloss:2.103906\n",
      "[8]\ttrain-mlogloss:1.963105\tvaltest-mlogloss:2.032676\n",
      "[9]\ttrain-mlogloss:1.895690\tvaltest-mlogloss:1.969344\n",
      "[10]\ttrain-mlogloss:1.833731\tvaltest-mlogloss:1.912244\n",
      "[11]\ttrain-mlogloss:1.778862\tvaltest-mlogloss:1.862115\n",
      "[12]\ttrain-mlogloss:1.727549\tvaltest-mlogloss:1.814620\n",
      "[13]\ttrain-mlogloss:1.681378\tvaltest-mlogloss:1.771903\n",
      "[14]\ttrain-mlogloss:1.634287\tvaltest-mlogloss:1.728659\n",
      "[15]\ttrain-mlogloss:1.593287\tvaltest-mlogloss:1.691280\n",
      "[16]\ttrain-mlogloss:1.554923\tvaltest-mlogloss:1.656863\n",
      "[17]\ttrain-mlogloss:1.521078\tvaltest-mlogloss:1.626221\n",
      "[18]\ttrain-mlogloss:1.488504\tvaltest-mlogloss:1.597284\n",
      "[19]\ttrain-mlogloss:1.458677\tvaltest-mlogloss:1.570740\n",
      "[20]\ttrain-mlogloss:1.428218\tvaltest-mlogloss:1.543579\n",
      "[21]\ttrain-mlogloss:1.402097\tvaltest-mlogloss:1.520502\n",
      "[22]\ttrain-mlogloss:1.376634\tvaltest-mlogloss:1.498124\n",
      "[23]\ttrain-mlogloss:1.352229\tvaltest-mlogloss:1.476622\n",
      "[24]\ttrain-mlogloss:1.328459\tvaltest-mlogloss:1.455405\n",
      "[25]\ttrain-mlogloss:1.306209\tvaltest-mlogloss:1.436018\n",
      "[26]\ttrain-mlogloss:1.286986\tvaltest-mlogloss:1.419224\n",
      "[27]\ttrain-mlogloss:1.267371\tvaltest-mlogloss:1.402311\n",
      "[28]\ttrain-mlogloss:1.249006\tvaltest-mlogloss:1.386683\n",
      "[29]\ttrain-mlogloss:1.231298\tvaltest-mlogloss:1.371676\n",
      "[30]\ttrain-mlogloss:1.215549\tvaltest-mlogloss:1.358278\n",
      "[31]\ttrain-mlogloss:1.200025\tvaltest-mlogloss:1.345358\n",
      "[32]\ttrain-mlogloss:1.183847\tvaltest-mlogloss:1.331573\n",
      "[33]\ttrain-mlogloss:1.169177\tvaltest-mlogloss:1.319376\n",
      "[34]\ttrain-mlogloss:1.155256\tvaltest-mlogloss:1.307898\n",
      "[35]\ttrain-mlogloss:1.142035\tvaltest-mlogloss:1.297068\n",
      "[36]\ttrain-mlogloss:1.129946\tvaltest-mlogloss:1.287019\n",
      "[37]\ttrain-mlogloss:1.117865\tvaltest-mlogloss:1.277258\n",
      "[38]\ttrain-mlogloss:1.106546\tvaltest-mlogloss:1.267915\n",
      "[39]\ttrain-mlogloss:1.095478\tvaltest-mlogloss:1.259155\n",
      "[40]\ttrain-mlogloss:1.085068\tvaltest-mlogloss:1.250796\n",
      "[41]\ttrain-mlogloss:1.075398\tvaltest-mlogloss:1.243307\n",
      "[42]\ttrain-mlogloss:1.065676\tvaltest-mlogloss:1.235711\n",
      "[43]\ttrain-mlogloss:1.056684\tvaltest-mlogloss:1.228633\n",
      "[44]\ttrain-mlogloss:1.047643\tvaltest-mlogloss:1.221656\n",
      "[45]\ttrain-mlogloss:1.038729\tvaltest-mlogloss:1.214886\n",
      "[46]\ttrain-mlogloss:1.029861\tvaltest-mlogloss:1.207788\n",
      "[47]\ttrain-mlogloss:1.021943\tvaltest-mlogloss:1.201755\n",
      "[48]\ttrain-mlogloss:1.013746\tvaltest-mlogloss:1.195690\n",
      "[49]\ttrain-mlogloss:1.005927\tvaltest-mlogloss:1.189911\n",
      "[50]\ttrain-mlogloss:0.998298\tvaltest-mlogloss:1.183907\n",
      "[51]\ttrain-mlogloss:0.991202\tvaltest-mlogloss:1.178814\n",
      "[52]\ttrain-mlogloss:0.984343\tvaltest-mlogloss:1.173675\n",
      "[53]\ttrain-mlogloss:0.977438\tvaltest-mlogloss:1.168879\n",
      "[54]\ttrain-mlogloss:0.970944\tvaltest-mlogloss:1.164136\n",
      "[55]\ttrain-mlogloss:0.964545\tvaltest-mlogloss:1.159245\n",
      "[56]\ttrain-mlogloss:0.958176\tvaltest-mlogloss:1.154525\n",
      "[57]\ttrain-mlogloss:0.952721\tvaltest-mlogloss:1.150436\n",
      "[58]\ttrain-mlogloss:0.946854\tvaltest-mlogloss:1.146174\n",
      "[59]\ttrain-mlogloss:0.941326\tvaltest-mlogloss:1.142134\n",
      "[60]\ttrain-mlogloss:0.935808\tvaltest-mlogloss:1.138322\n",
      "[61]\ttrain-mlogloss:0.930277\tvaltest-mlogloss:1.134528\n",
      "[62]\ttrain-mlogloss:0.925069\tvaltest-mlogloss:1.130934\n",
      "[63]\ttrain-mlogloss:0.919940\tvaltest-mlogloss:1.127120\n",
      "[64]\ttrain-mlogloss:0.915033\tvaltest-mlogloss:1.123612\n",
      "[65]\ttrain-mlogloss:0.909932\tvaltest-mlogloss:1.119906\n",
      "[66]\ttrain-mlogloss:0.904967\tvaltest-mlogloss:1.116292\n",
      "[67]\ttrain-mlogloss:0.900553\tvaltest-mlogloss:1.113133\n",
      "[68]\ttrain-mlogloss:0.896250\tvaltest-mlogloss:1.110207\n",
      "[69]\ttrain-mlogloss:0.891907\tvaltest-mlogloss:1.107255\n",
      "[70]\ttrain-mlogloss:0.887771\tvaltest-mlogloss:1.104619\n",
      "[71]\ttrain-mlogloss:0.883716\tvaltest-mlogloss:1.101823\n",
      "[72]\ttrain-mlogloss:0.879889\tvaltest-mlogloss:1.099287\n",
      "[73]\ttrain-mlogloss:0.875923\tvaltest-mlogloss:1.096767\n",
      "[74]\ttrain-mlogloss:0.872071\tvaltest-mlogloss:1.094508\n",
      "[75]\ttrain-mlogloss:0.868384\tvaltest-mlogloss:1.092167\n",
      "[76]\ttrain-mlogloss:0.864599\tvaltest-mlogloss:1.089846\n",
      "[77]\ttrain-mlogloss:0.860982\tvaltest-mlogloss:1.087489\n",
      "[78]\ttrain-mlogloss:0.857620\tvaltest-mlogloss:1.085241\n",
      "[79]\ttrain-mlogloss:0.854133\tvaltest-mlogloss:1.083166\n",
      "[80]\ttrain-mlogloss:0.850777\tvaltest-mlogloss:1.081014\n",
      "[81]\ttrain-mlogloss:0.847382\tvaltest-mlogloss:1.078940\n",
      "[82]\ttrain-mlogloss:0.844277\tvaltest-mlogloss:1.077010\n",
      "[83]\ttrain-mlogloss:0.841073\tvaltest-mlogloss:1.075114\n",
      "[84]\ttrain-mlogloss:0.838020\tvaltest-mlogloss:1.073236\n",
      "[85]\ttrain-mlogloss:0.834886\tvaltest-mlogloss:1.071509\n",
      "[86]\ttrain-mlogloss:0.831842\tvaltest-mlogloss:1.069631\n",
      "[87]\ttrain-mlogloss:0.828661\tvaltest-mlogloss:1.067860\n",
      "[88]\ttrain-mlogloss:0.825885\tvaltest-mlogloss:1.066189\n",
      "[89]\ttrain-mlogloss:0.822912\tvaltest-mlogloss:1.064456\n",
      "[90]\ttrain-mlogloss:0.820031\tvaltest-mlogloss:1.062726\n",
      "[91]\ttrain-mlogloss:0.817441\tvaltest-mlogloss:1.061345\n",
      "[92]\ttrain-mlogloss:0.814830\tvaltest-mlogloss:1.059822\n",
      "[93]\ttrain-mlogloss:0.812015\tvaltest-mlogloss:1.058031\n",
      "[94]\ttrain-mlogloss:0.809532\tvaltest-mlogloss:1.056633\n",
      "[95]\ttrain-mlogloss:0.806844\tvaltest-mlogloss:1.055213\n",
      "[96]\ttrain-mlogloss:0.804359\tvaltest-mlogloss:1.053807\n",
      "[97]\ttrain-mlogloss:0.801804\tvaltest-mlogloss:1.052380\n",
      "[98]\ttrain-mlogloss:0.799220\tvaltest-mlogloss:1.050844\n"
     ]
    },
    {
     "name": "stdout",
     "output_type": "stream",
     "text": [
      "CV Score: 1.0494\n"
     ]
    },
    {
     "name": "stderr",
     "output_type": "stream",
     "text": [
      "[99]\ttrain-mlogloss:0.796804\tvaltest-mlogloss:1.049420\n"
     ]
    }
   ],
   "source": [
    "def cv_with_xgboost(X):\n",
    "    n_classes = len(target_index.unique())\n",
    "    n_samples = len(df_train.VisitNumber.unique())\n",
    "    kf = KFold(n_samples, n_folds=5)\n",
    "    scores = []\n",
    "    for idx_train, idx_test in kf:\n",
    "        y_train, y_test = y[idx_train], y[idx_test]\n",
    "        X_train, X_test = X[idx_train], X[idx_test]\n",
    "        # xgboost.DMatrix オブジェクト\n",
    "        dtrain = xgboost.DMatrix(X_train, y_train)\n",
    "        dtest = xgboost.DMatrix(X_test, y_test)\n",
    "        watchlist = [(dtrain, 'train'), (dtest, 'valtest')]\n",
    "        params = {\n",
    "            'objective': 'multi:softprob',\n",
    "            'booster': 'gbtree',\n",
    "            'num_class': n_classes,\n",
    "            'learning_rate': 0.1,\n",
    "            'max_depth': 8,\n",
    "            'subsample': 0.9,\n",
    "            'colsample_bytree': 0.8,\n",
    "            'seed': 9,\n",
    "            'silent': 1,\n",
    "            'eval_metric': 'mlogloss',\n",
    "        }\n",
    "        n_estimators = 100\n",
    "        gbm = xgboost.train(params, dtrain, n_estimators, evals=watchlist, verbose_eval=True)\n",
    "        y_pred = gbm.predict(dtest)\n",
    "        scores.append(multiclass_logloss(y_test, y_pred))\n",
    "    return np.mean(scores)\n",
    "\n",
    "\n",
    "y = load('triptype.h5')\n",
    "X = load('department_description_scancount.h5')\n",
    "score = cv_with_xgboost(X)\n",
    "print(\"CV Score: {:.4f}\".format(score))"
   ]
  },
  {
   "cell_type": "markdown",
   "metadata": {},
   "source": [
    "### 予測結果の投稿\n",
    "\n",
    "「テスト事例」に対して予測を行い、Kaggle への投稿フォーマットにあわせて投稿する。"
   ]
  },
  {
   "cell_type": "code",
   "execution_count": 28,
   "metadata": {
    "collapsed": false
   },
   "outputs": [],
   "source": [
    "def test_with_xgboost(X, y_train):\n",
    "    X_train, X_test = X[:y_train.shape[0]], X[y_train.shape[0]:]\n",
    "\n",
    "    dtrain = xgboost.DMatrix(X_train, y_train)\n",
    "    dtest = xgboost.DMatrix(X_test)\n",
    "    watchlist = [(dtrain, 'train')]\n",
    "    params = {\n",
    "        'objective': 'multi:softprob',\n",
    "        'booster': 'gbtree',\n",
    "        'num_class': 38,\n",
    "        'learning_rate': 0.1,\n",
    "        'max_depth': 8,\n",
    "        'subsample': 0.9,\n",
    "        'colsample_bytree': 0.8,\n",
    "\n",
    "        'seed': 9,\n",
    "        'silent': 1,\n",
    "        'eval_metric': 'mlogloss',\n",
    "    }\n",
    "    n_estimators = 100\n",
    "    gbm = xgboost.train(params, dtrain, n_estimators, evals=watchlist, verbose_eval=False)\n",
    "    return gbm.predict(dtest)\n",
    "\n",
    "\n",
    "X = load('department_description.h5')\n",
    "y_train = load('triptype.h5')\n",
    "y_pred = test_with_xgboost(X, y_train)"
   ]
  },
  {
   "cell_type": "code",
   "execution_count": 29,
   "metadata": {
    "collapsed": false
   },
   "outputs": [],
   "source": [
    "for idx, triptype in enumerate(target_index):\n",
    "    df_sub['TripType_{}'.format(triptype)] = y_pred[:, idx]\n",
    "\n",
    "df_sub.to_csv('/mnt/tutorial_xgb_v1.csv', index=False)"
   ]
  },
  {
   "cell_type": "markdown",
   "metadata": {},
   "source": [
    "出力されたファイルを[投稿ページ](https://www.kaggle.com/c/walmart-recruiting-trip-type-classification/submissions/attach)からアップロードすると holdout データを使った暫定スコアが計算され，ランキングに反映される．\n",
    "\n",
    "![](http://ho.lc/files/a51b1c29.png)"
   ]
  },
  {
   "cell_type": "markdown",
   "metadata": {},
   "source": [
    "### 特徴量を増やす"
   ]
  },
  {
   "cell_type": "code",
   "execution_count": 22,
   "metadata": {
    "collapsed": false
   },
   "outputs": [],
   "source": [
    "def weekday():\n",
    "    df = pd.concat([df_train, df_test]).groupby('VisitNumber').agg('first')\n",
    "    visit_number_order = df_train.VisitNumber.drop_duplicates().append(\n",
    "            df_test.VisitNumber.drop_duplicates())\n",
    "    return df.loc[visit_number_order].Weekday.factorize()[0].reshape((-1, 1))\n",
    "\n",
    "\n",
    "def n_records():\n",
    "    df = pd.concat([df_train, df_test]).groupby('VisitNumber').agg('count')\n",
    "    visit_number_order = df_train.VisitNumber.drop_duplicates().append(\n",
    "            df_test.VisitNumber.drop_duplicates())\n",
    "    return df.loc[visit_number_order].Weekday.reshape((-1, 1))\n",
    "\n",
    "\n",
    "def negative_scancount_num():\n",
    "    df = pd.concat([df_train, df_test]).groupby('VisitNumber').agg({\n",
    "        'ScanCount': lambda x: (x < 0).sum()})\n",
    "    visit_number_order = df_train.VisitNumber.drop_duplicates().append(\n",
    "            df_test.VisitNumber.drop_duplicates())\n",
    "    return df.loc[visit_number_order].fillna(0).ScanCount.reshape((-1, 1))\n",
    "\n",
    "\n",
    "def department_description_unique_count():\n",
    "    df = pd.concat([df_train, df_test]).groupby('VisitNumber').agg({\n",
    "        'DepartmentDescription': lambda x: len(x.unique())})\n",
    "    visit_number_order = df_train.VisitNumber.drop_duplicates().append(\n",
    "            df_test.VisitNumber.drop_duplicates())\n",
    "    return df.loc[visit_number_order].fillna(0).DepartmentDescription.reshape((-1, 1))\n",
    "\n",
    "\n",
    "save(weekday(), 'weekday.h5')\n",
    "save(n_records(), 'n_records.h5')\n",
    "save(negative_scancount_num(), 'negative_scancount_num.h5')\n",
    "save(department_description_unique_count(), 'department_description_unique_count.h5')"
   ]
  },
  {
   "cell_type": "code",
   "execution_count": 25,
   "metadata": {
    "collapsed": false
   },
   "outputs": [
    {
     "name": "stderr",
     "output_type": "stream",
     "text": [
      "[0]\ttrain-mlogloss:2.950981\tvaltest-mlogloss:2.957432\n",
      "[1]\ttrain-mlogloss:2.594297\tvaltest-mlogloss:2.611542\n",
      "[2]\ttrain-mlogloss:2.372004\tvaltest-mlogloss:2.399123\n",
      "[3]\ttrain-mlogloss:2.188715\tvaltest-mlogloss:2.224735\n",
      "[4]\ttrain-mlogloss:2.043805\tvaltest-mlogloss:2.087926\n",
      "[5]\ttrain-mlogloss:1.927418\tvaltest-mlogloss:1.977351\n",
      "[6]\ttrain-mlogloss:1.830554\tvaltest-mlogloss:1.885987\n",
      "[7]\ttrain-mlogloss:1.742676\tvaltest-mlogloss:1.804265\n",
      "[8]\ttrain-mlogloss:1.665952\tvaltest-mlogloss:1.733532\n",
      "[9]\ttrain-mlogloss:1.600304\tvaltest-mlogloss:1.672886\n",
      "[10]\ttrain-mlogloss:1.538425\tvaltest-mlogloss:1.616445\n",
      "[11]\ttrain-mlogloss:1.482043\tvaltest-mlogloss:1.565601\n",
      "[12]\ttrain-mlogloss:1.432134\tvaltest-mlogloss:1.519972\n",
      "[13]\ttrain-mlogloss:1.384376\tvaltest-mlogloss:1.476822\n",
      "[14]\ttrain-mlogloss:1.339650\tvaltest-mlogloss:1.436883\n",
      "[15]\ttrain-mlogloss:1.301617\tvaltest-mlogloss:1.402282\n",
      "[16]\ttrain-mlogloss:1.264289\tvaltest-mlogloss:1.369063\n",
      "[17]\ttrain-mlogloss:1.231089\tvaltest-mlogloss:1.340131\n",
      "[18]\ttrain-mlogloss:1.199298\tvaltest-mlogloss:1.312433\n",
      "[19]\ttrain-mlogloss:1.170328\tvaltest-mlogloss:1.287069\n",
      "[20]\ttrain-mlogloss:1.143808\tvaltest-mlogloss:1.264274\n",
      "[21]\ttrain-mlogloss:1.117206\tvaltest-mlogloss:1.241226\n",
      "[22]\ttrain-mlogloss:1.093691\tvaltest-mlogloss:1.221093\n",
      "[23]\ttrain-mlogloss:1.072084\tvaltest-mlogloss:1.202747\n",
      "[24]\ttrain-mlogloss:1.051285\tvaltest-mlogloss:1.185254\n",
      "[25]\ttrain-mlogloss:1.031318\tvaltest-mlogloss:1.168694\n",
      "[26]\ttrain-mlogloss:1.013135\tvaltest-mlogloss:1.153510\n",
      "[27]\ttrain-mlogloss:0.995381\tvaltest-mlogloss:1.138769\n",
      "[28]\ttrain-mlogloss:0.978941\tvaltest-mlogloss:1.125528\n",
      "[29]\ttrain-mlogloss:0.963647\tvaltest-mlogloss:1.113323\n",
      "[30]\ttrain-mlogloss:0.949718\tvaltest-mlogloss:1.101849\n",
      "[31]\ttrain-mlogloss:0.935862\tvaltest-mlogloss:1.090970\n",
      "[32]\ttrain-mlogloss:0.923226\tvaltest-mlogloss:1.080923\n",
      "[33]\ttrain-mlogloss:0.911808\tvaltest-mlogloss:1.072177\n",
      "[34]\ttrain-mlogloss:0.900455\tvaltest-mlogloss:1.063319\n",
      "[35]\ttrain-mlogloss:0.889311\tvaltest-mlogloss:1.054921\n",
      "[36]\ttrain-mlogloss:0.878891\tvaltest-mlogloss:1.047278\n",
      "[37]\ttrain-mlogloss:0.869809\tvaltest-mlogloss:1.040561\n",
      "[38]\ttrain-mlogloss:0.860205\tvaltest-mlogloss:1.033261\n",
      "[39]\ttrain-mlogloss:0.851291\tvaltest-mlogloss:1.026760\n",
      "[40]\ttrain-mlogloss:0.842716\tvaltest-mlogloss:1.020630\n",
      "[41]\ttrain-mlogloss:0.834678\tvaltest-mlogloss:1.014909\n",
      "[42]\ttrain-mlogloss:0.826899\tvaltest-mlogloss:1.009433\n",
      "[43]\ttrain-mlogloss:0.819492\tvaltest-mlogloss:1.004354\n",
      "[44]\ttrain-mlogloss:0.812517\tvaltest-mlogloss:0.999687\n",
      "[45]\ttrain-mlogloss:0.805671\tvaltest-mlogloss:0.995334\n",
      "[46]\ttrain-mlogloss:0.799131\tvaltest-mlogloss:0.990774\n",
      "[47]\ttrain-mlogloss:0.792644\tvaltest-mlogloss:0.986613\n",
      "[48]\ttrain-mlogloss:0.786353\tvaltest-mlogloss:0.982529\n",
      "[49]\ttrain-mlogloss:0.780464\tvaltest-mlogloss:0.978442\n",
      "[50]\ttrain-mlogloss:0.774673\tvaltest-mlogloss:0.974993\n",
      "[51]\ttrain-mlogloss:0.768885\tvaltest-mlogloss:0.971434\n",
      "[52]\ttrain-mlogloss:0.763799\tvaltest-mlogloss:0.968179\n",
      "[53]\ttrain-mlogloss:0.758755\tvaltest-mlogloss:0.965284\n",
      "[54]\ttrain-mlogloss:0.753735\tvaltest-mlogloss:0.962225\n",
      "[55]\ttrain-mlogloss:0.749120\tvaltest-mlogloss:0.959442\n",
      "[56]\ttrain-mlogloss:0.744499\tvaltest-mlogloss:0.956496\n",
      "[57]\ttrain-mlogloss:0.739800\tvaltest-mlogloss:0.953582\n",
      "[58]\ttrain-mlogloss:0.735318\tvaltest-mlogloss:0.951054\n",
      "[59]\ttrain-mlogloss:0.730881\tvaltest-mlogloss:0.948623\n",
      "[60]\ttrain-mlogloss:0.726426\tvaltest-mlogloss:0.945978\n",
      "[61]\ttrain-mlogloss:0.722618\tvaltest-mlogloss:0.944044\n",
      "[62]\ttrain-mlogloss:0.718445\tvaltest-mlogloss:0.941687\n",
      "[63]\ttrain-mlogloss:0.714681\tvaltest-mlogloss:0.939504\n",
      "[64]\ttrain-mlogloss:0.710699\tvaltest-mlogloss:0.937348\n",
      "[65]\ttrain-mlogloss:0.707216\tvaltest-mlogloss:0.935672\n",
      "[66]\ttrain-mlogloss:0.703315\tvaltest-mlogloss:0.933686\n",
      "[67]\ttrain-mlogloss:0.700020\tvaltest-mlogloss:0.932165\n",
      "[68]\ttrain-mlogloss:0.696437\tvaltest-mlogloss:0.930506\n",
      "[69]\ttrain-mlogloss:0.693354\tvaltest-mlogloss:0.928908\n",
      "[70]\ttrain-mlogloss:0.690302\tvaltest-mlogloss:0.927482\n",
      "[71]\ttrain-mlogloss:0.687307\tvaltest-mlogloss:0.926110\n",
      "[72]\ttrain-mlogloss:0.684334\tvaltest-mlogloss:0.924656\n",
      "[73]\ttrain-mlogloss:0.681388\tvaltest-mlogloss:0.923346\n",
      "[74]\ttrain-mlogloss:0.678581\tvaltest-mlogloss:0.922145\n",
      "[75]\ttrain-mlogloss:0.676111\tvaltest-mlogloss:0.920975\n",
      "[76]\ttrain-mlogloss:0.673587\tvaltest-mlogloss:0.919922\n",
      "[77]\ttrain-mlogloss:0.670901\tvaltest-mlogloss:0.918748\n",
      "[78]\ttrain-mlogloss:0.668145\tvaltest-mlogloss:0.917773\n",
      "[79]\ttrain-mlogloss:0.665533\tvaltest-mlogloss:0.916712\n",
      "[80]\ttrain-mlogloss:0.663072\tvaltest-mlogloss:0.915662\n",
      "[81]\ttrain-mlogloss:0.660635\tvaltest-mlogloss:0.914709\n",
      "[82]\ttrain-mlogloss:0.658420\tvaltest-mlogloss:0.913791\n",
      "[83]\ttrain-mlogloss:0.656102\tvaltest-mlogloss:0.912957\n",
      "[84]\ttrain-mlogloss:0.653755\tvaltest-mlogloss:0.912096\n",
      "[85]\ttrain-mlogloss:0.651535\tvaltest-mlogloss:0.911394\n",
      "[86]\ttrain-mlogloss:0.649432\tvaltest-mlogloss:0.910509\n",
      "[87]\ttrain-mlogloss:0.647338\tvaltest-mlogloss:0.909750\n",
      "[88]\ttrain-mlogloss:0.645051\tvaltest-mlogloss:0.909088\n",
      "[89]\ttrain-mlogloss:0.642857\tvaltest-mlogloss:0.908405\n",
      "[90]\ttrain-mlogloss:0.640882\tvaltest-mlogloss:0.907719\n",
      "[91]\ttrain-mlogloss:0.638944\tvaltest-mlogloss:0.907032\n",
      "[92]\ttrain-mlogloss:0.636946\tvaltest-mlogloss:0.906376\n",
      "[93]\ttrain-mlogloss:0.635087\tvaltest-mlogloss:0.905743\n",
      "[94]\ttrain-mlogloss:0.633092\tvaltest-mlogloss:0.905063\n",
      "[95]\ttrain-mlogloss:0.631103\tvaltest-mlogloss:0.904454\n",
      "[96]\ttrain-mlogloss:0.629497\tvaltest-mlogloss:0.903954\n",
      "[97]\ttrain-mlogloss:0.627575\tvaltest-mlogloss:0.903428\n",
      "[98]\ttrain-mlogloss:0.625847\tvaltest-mlogloss:0.902847\n"
     ]
    },
    {
     "name": "stdout",
     "output_type": "stream",
     "text": [
      "CV Score: 0.9024\n"
     ]
    },
    {
     "name": "stderr",
     "output_type": "stream",
     "text": [
      "[99]\ttrain-mlogloss:0.624169\tvaltest-mlogloss:0.902387\n"
     ]
    }
   ],
   "source": [
    "y = load('triptype.h5')\n",
    "X = np.hstack([\n",
    "    load('department_description_scancount.h5'),\n",
    "    load('weekday.h5'),\n",
    "    load('n_records.h5'),\n",
    "    load('negative_scancount_num.h5'),\n",
    "    load('department_description_unique_count.h5'),\n",
    "])\n",
    "X = X[:y.shape[0]]\n",
    "score = cv_with_xgboost(X)\n",
    "print(\"CV Score: {:.4f}\".format(score))"
   ]
  },
  {
   "cell_type": "markdown",
   "metadata": {},
   "source": [
    "交差確認のスコアが改善したため、テストセットでも改善しているか Kaggle に投稿して確認する。"
   ]
  },
  {
   "cell_type": "code",
   "execution_count": 30,
   "metadata": {
    "collapsed": true
   },
   "outputs": [],
   "source": [
    "X = np.hstack([\n",
    "    load('department_description_scancount.h5'),\n",
    "    load('weekday.h5'),\n",
    "    load('n_records.h5'),\n",
    "    load('negative_scancount_num.h5'),\n",
    "    load('department_description_unique_count.h5'),\n",
    "])\n",
    "y_pred = test_with_xgboost(X)\n",
    "\n",
    "for idx, triptype in enumerate(target_index):\n",
    "    df_sub['TripType_{}'.format(triptype)] = y_pred[:, idx]\n",
    "\n",
    "df_sub.to_csv('/mnt/tutorial_xgb_v2.csv', index=False)"
   ]
  },
  {
   "cell_type": "markdown",
   "metadata": {
    "collapsed": true
   },
   "source": [
    "→ 0.89"
   ]
  }
 ],
 "metadata": {
  "kernelspec": {
   "display_name": "Python 3",
   "language": "python",
   "name": "python3"
  },
  "language_info": {
   "codemirror_mode": {
    "name": "ipython",
    "version": 3
   },
   "file_extension": ".py",
   "mimetype": "text/x-python",
   "name": "python",
   "nbconvert_exporter": "python",
   "pygments_lexer": "ipython3",
   "version": "3.6.0a2"
  }
 },
 "nbformat": 4,
 "nbformat_minor": 1
}
